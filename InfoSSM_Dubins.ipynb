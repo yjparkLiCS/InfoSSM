{
 "cells": [
  {
   "cell_type": "code",
   "execution_count": null,
   "metadata": {},
   "outputs": [],
   "source": [
    "import os\n",
    "os.environ[\"CUDA_DEVICE_ORDER\"]=\"PCI_BUS_ID\" # see issue #152\n",
    "os.environ[\"CUDA_VISIBLE_DEVICES\"]=\"0\" # Will use only the first and the second GPU devices\n",
    "\n",
    "import tensorflow as tf\n",
    "import numpy as np\n",
    "import matplotlib.pyplot as plt\n",
    "import pickle\n",
    "import scipy.io\n",
    "from mpl_toolkits.mplot3d import Axes3D\n",
    "\n",
    "from networks.InfoSSM import *"
   ]
  },
  {
   "cell_type": "code",
   "execution_count": null,
   "metadata": {
    "scrolled": false
   },
   "outputs": [],
   "source": [
    "B=50\n",
    "K=4\n",
    "T=20\n",
    "M=20\n",
    "Dx=4\n",
    "Dy=2\n",
    "Din=2\n",
    "Dout=2\n",
    "Nc = 3 # 1 for PR-SSM\n",
    "dt=0.1\n",
    "lr=1e-3"
   ]
  },
  {
   "cell_type": "code",
   "execution_count": null,
   "metadata": {},
   "outputs": [],
   "source": [
    "Data = scipy.io.loadmat('./Dubins.mat')\n",
    "yseq = Data[\"Ytrain\"].reshape((-1,1,T,Dy))\n",
    "yseq = yseq + 0.01*np.random.normal(0,1,yseq.shape)\n",
    "Ntrain_all = yseq.shape[0]\n",
    "print(yseq.shape)"
   ]
  },
  {
   "cell_type": "code",
   "execution_count": null,
   "metadata": {},
   "outputs": [],
   "source": [
    "SSMNet = InfoSSM(K, T, M, Dx, Dy, Nc, dt, lr)"
   ]
  },
  {
   "cell_type": "code",
   "execution_count": null,
   "metadata": {},
   "outputs": [],
   "source": [
    "info_lambda = B*T # 0.0 for H-GPSSM\n",
    "loss_hist = []\n",
    "bound_hist = []\n",
    "info_hist = []"
   ]
  },
  {
   "cell_type": "code",
   "execution_count": null,
   "metadata": {
    "scrolled": true
   },
   "outputs": [],
   "source": [
    "epoch_begin = len(loss_hist)\n",
    "for epoch in range(epoch_begin,30001):    \n",
    "    batch_idx = np.random.choice(Ntrain_all,B)\n",
    "    yseq_batch = yseq[batch_idx,:,:,:]\n",
    "    \n",
    "    losses = SSMNet.train(yseq_batch, info_lambda)\n",
    "    loss_hist.append(losses[0])\n",
    "    bound_hist.append(losses[0]+info_lambda*losses[2])\n",
    "    info_hist.append(losses[2])\n",
    "    \n",
    "    if epoch % 50 == 0:\n",
    "        print (epoch, losses[0], losses[0]+info_lambda*losses[2], losses[2])\n",
    "\n",
    "    if epoch % 500 == 0:\n",
    "        yseq_samples = SSMNet.sess.run(SSMNet.yseq_samples, feed_dict={SSMNet.yseq_true:yseq_batch, SSMNet.info_lambda:info_lambda}) # (B,K,T,Dy)\n",
    "        \n",
    "        for b in range(0,B,10):\n",
    "            fig = plt.figure()\n",
    "            for k in range(K):\n",
    "                plt.plot(yseq_samples[b,k,:,0], yseq_samples[b,k,:,1])\n",
    "                plt.plot(yseq_samples[b,k,0,0], yseq_samples[b,k,0,1], '.')\n",
    "            plt.plot(yseq_batch[b,0,:,0], yseq_batch[b,0,:,1],'k-')\n",
    "            plt.plot(yseq_batch[b,0,0,0], yseq_batch[b,0,0,1],'k.')\n",
    "            plt.axis('equal')\n",
    "            plt.show()\n",
    "        \n",
    "        xseq, code = SSMNet.sess.run([SSMNet.xseq_samples, SSMNet.c0_samples], feed_dict={SSMNet.yseq_true:yseq}) # (B,K,T,Dy)\n",
    "        plt.figure()\n",
    "        for nc in range(Nc):\n",
    "            plt.plot(code[:,0,0,nc])\n",
    "\n",
    "        for b in range(0,Ntrain_all,7):\n",
    "            plt.figure()\n",
    "            px = yseq[b,0,:,0]\n",
    "            py = yseq[b,0,:,1]\n",
    "            plt.plot(px, py)\n",
    "            plt.plot(px[0], py[0],'.')\n",
    "            plt.axis('equal')\n",
    "            plt.show()\n",
    "            print(code[b,0,0,:])"
   ]
  },
  {
   "cell_type": "code",
   "execution_count": null,
   "metadata": {},
   "outputs": [],
   "source": []
  }
 ],
 "metadata": {
  "kernelspec": {
   "display_name": "Python 3",
   "language": "python",
   "name": "python3"
  },
  "language_info": {
   "codemirror_mode": {
    "name": "ipython",
    "version": 3
   },
   "file_extension": ".py",
   "mimetype": "text/x-python",
   "name": "python",
   "nbconvert_exporter": "python",
   "pygments_lexer": "ipython3",
   "version": "3.5.2"
  }
 },
 "nbformat": 4,
 "nbformat_minor": 2
}
